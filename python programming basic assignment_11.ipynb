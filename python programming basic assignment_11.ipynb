{
 "cells": [
  {
   "cell_type": "markdown",
   "metadata": {},
   "source": [
    "**1. Write a Python program to find words which are greater than given length k.**"
   ]
  },
  {
   "cell_type": "code",
   "execution_count": 9,
   "metadata": {},
   "outputs": [
    {
     "name": "stdout",
     "output_type": "stream",
     "text": [
      "Enter a sentence : Write a Python program to find words which are greater than given length k\n",
      "Words greater than length 5 : ['Python', 'program', 'greater', 'length']\n"
     ]
    }
   ],
   "source": [
    "def k_length_words(k,string):\n",
    "    k_length_words_list = []\n",
    "    word_list = string.split(\" \")\n",
    "    for i in word_list:\n",
    "        if len(i) > k:\n",
    "            k_length_words_list.append(i)\n",
    "    return k_length_words_list\n",
    "            \n",
    "string = input(\"Enter a sentence : \")\n",
    "k = 5\n",
    "\n",
    "print(\"Words greater than length\",k,\":\",k_length_words(k,string))"
   ]
  },
  {
   "cell_type": "markdown",
   "metadata": {},
   "source": [
    "**2. Write a Python program for removing i-th character from a string.**"
   ]
  },
  {
   "cell_type": "code",
   "execution_count": 14,
   "metadata": {},
   "outputs": [
    {
     "name": "stdout",
     "output_type": "stream",
     "text": [
      "Enter a string : ineuron\n",
      "i = 2 ; character from the string is removed :  inuron\n"
     ]
    }
   ],
   "source": [
    "def remove_ith_index(i,string):\n",
    "    a = string[:i]\n",
    "    b = string[i+1:]\n",
    "    return a + b\n",
    "i = 2\n",
    "string = input(\"Enter a string : \")\n",
    "print(\"i =\" ,i,\"; character from the string is removed : \",remove_ith_index(i,string))"
   ]
  },
  {
   "cell_type": "markdown",
   "metadata": {},
   "source": [
    "**3. Write a Python program to split and join a string.**"
   ]
  },
  {
   "cell_type": "code",
   "execution_count": 26,
   "metadata": {},
   "outputs": [
    {
     "name": "stdout",
     "output_type": "stream",
     "text": [
      "Original string :  Write a Python program to split and join a string\n",
      "Split string with space delimiter :  ['Write', 'a', 'Python', 'program', 'to', 'split', 'and', 'join', 'a', 'string']\n",
      "The joint string with - delimiter :  Write-a-Python-program-to-split-and-join-a-string\n"
     ]
    }
   ],
   "source": [
    "def split_string(string,a):\n",
    "    c = string.split(a)\n",
    "    return c\n",
    "\n",
    "def join_string(c):\n",
    "    d = \"-\".join(c)\n",
    "    return d \n",
    "\n",
    "string = \"Write a Python program to split and join a string\"\n",
    "print(\"Original string : \",string)\n",
    "\n",
    "split = split_string(string,\" \")\n",
    "print(\"Split string with space delimiter : \",split)\n",
    "\n",
    "print(\"The joint string with - delimiter : \",join_string(c))"
   ]
  },
  {
   "cell_type": "markdown",
   "metadata": {},
   "source": [
    "**4. Write a Python to check if a given string is binary string or not.**"
   ]
  },
  {
   "cell_type": "code",
   "execution_count": 44,
   "metadata": {},
   "outputs": [
    {
     "data": {
      "text/plain": [
       "True"
      ]
     },
     "execution_count": 44,
     "metadata": {},
     "output_type": "execute_result"
    }
   ],
   "source": [
    "def isBinary_string(string):\n",
    "    a = set(string)\n",
    "    b = {\"0\",\"1\"}\n",
    "    \n",
    "    if a == b or a == {\"0\"} or a == {\"1\"}:\n",
    "        return True\n",
    "    else:\n",
    "        return False\n",
    "                \n",
    "string = \"100101000100\"\n",
    "isBinary_string(string)"
   ]
  },
  {
   "cell_type": "markdown",
   "metadata": {},
   "source": [
    "**5. Write a Python program to find uncommon words from two Strings.**"
   ]
  },
  {
   "cell_type": "code",
   "execution_count": 45,
   "metadata": {},
   "outputs": [
    {
     "name": "stdout",
     "output_type": "stream",
     "text": [
      "Enter some words : pen pencil eraser\n",
      "Enter some words : pencil pen scale\n",
      "Uncommon words are : \n",
      "['eraser', 'scale']\n"
     ]
    }
   ],
   "source": [
    "def uncommon_words(string1,string2):\n",
    "    l = [i for i in string1.split() if i not in string2.split()]\n",
    "    l1 = [i for i in string2.split() if i not in string1.split()]\n",
    "    return l+l1\n",
    "\n",
    "string1 = input(\"Enter some words : \")\n",
    "string2 = input(\"Enter some words : \")\n",
    "print(\"Uncommon words are : \")\n",
    "print(uncommon_words(string1,string2))"
   ]
  },
  {
   "cell_type": "markdown",
   "metadata": {},
   "source": [
    "**6. Write a Python to find all duplicate characters in string.**"
   ]
  },
  {
   "cell_type": "code",
   "execution_count": 52,
   "metadata": {},
   "outputs": [
    {
     "name": "stdout",
     "output_type": "stream",
     "text": [
      "Enter few words : Write a Python Program to check if a string contains any special character\n",
      "All duplicate characters in the string : \n",
      "['i', 'o', 'P', 'g', 's', 'n', ' ', 'c', 'e', 't', 'y', 'r', 'h', 'a']\n"
     ]
    }
   ],
   "source": [
    "def duplicate_character(string):\n",
    "    l = []\n",
    "    for i in string:\n",
    "        if string.count(i)>1:\n",
    "            l.append(i)\n",
    "    return list(set(l))\n",
    "\n",
    "string = input(\"Enter few words : \")\n",
    "print(\"All duplicate characters in the string : \")\n",
    "print(duplicate_character(string))"
   ]
  },
  {
   "cell_type": "markdown",
   "metadata": {},
   "source": [
    "**7. Write a Python Program to check if a string contains any special character.**"
   ]
  },
  {
   "cell_type": "code",
   "execution_count": 85,
   "metadata": {},
   "outputs": [
    {
     "name": "stdout",
     "output_type": "stream",
     "text": [
      "Enter a sentence : Write a Python Program to check if a string contains any special character..........!!!!!!!!!!!\n",
      "True\n"
     ]
    }
   ],
   "source": [
    "def is_special_character(s):\n",
    "    import string\n",
    "    a = string.punctuation\n",
    "    for i in s:\n",
    "        if i in a:\n",
    "            return True     \n",
    "        else :\n",
    "            pass\n",
    "    if is_special_character != True:\n",
    "        return False\n",
    "\n",
    "s = input(\"Enter a sentence : \")\n",
    "print(is_special_character(s))"
   ]
  }
 ],
 "metadata": {
  "kernelspec": {
   "display_name": "Python 3",
   "language": "python",
   "name": "python3"
  },
  "language_info": {
   "codemirror_mode": {
    "name": "ipython",
    "version": 3
   },
   "file_extension": ".py",
   "mimetype": "text/x-python",
   "name": "python",
   "nbconvert_exporter": "python",
   "pygments_lexer": "ipython3",
   "version": "3.7.6"
  }
 },
 "nbformat": 4,
 "nbformat_minor": 4
}
