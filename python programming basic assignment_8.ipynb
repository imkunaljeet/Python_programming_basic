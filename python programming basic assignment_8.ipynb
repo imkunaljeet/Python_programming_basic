{
 "cells": [
  {
   "cell_type": "markdown",
   "metadata": {},
   "source": [
    "**1. Write a Python Program to Add Two Matrices.**"
   ]
  },
  {
   "cell_type": "code",
   "execution_count": 42,
   "metadata": {},
   "outputs": [
    {
     "name": "stdout",
     "output_type": "stream",
     "text": [
      "The sum of matrices\n",
      " [[1 2]\n",
      " [3 5]\n",
      " [8 9]]    and \n",
      "\n",
      " [[4 5]\n",
      " [8 4]\n",
      " [3 7]]     is : \n",
      "\n",
      "  [[ 5  7]\n",
      " [11  9]\n",
      " [11 16]]\n"
     ]
    }
   ],
   "source": [
    "# see\n",
    "X = np.array([[1,2],\n",
    "     [3,5],\n",
    "     [8,9]])\n",
    "Y = np.array([[4,5],\n",
    "     [8,4],\n",
    "     [3,7]])\n",
    "import numpy as np\n",
    "add = np.add(X,Y)\n",
    "print(\"The sum of matrices\\n\",X,\"   and \\n\\n\", Y, \"    is : \\n\\n \",add)"
   ]
  },
  {
   "cell_type": "markdown",
   "metadata": {},
   "source": [
    "**2. Write a Python Program to Multiply Two Matrices**"
   ]
  },
  {
   "cell_type": "code",
   "execution_count": 41,
   "metadata": {},
   "outputs": [
    {
     "name": "stdout",
     "output_type": "stream",
     "text": [
      "The multiplication of matrices\n",
      " [[1 2]\n",
      " [3 5]\n",
      " [8 9]]    and \n",
      "\n",
      " [[4 5]\n",
      " [8 4]]     is : \n",
      "\n",
      "  [[ 20  13]\n",
      " [ 52  35]\n",
      " [104  76]]\n"
     ]
    }
   ],
   "source": [
    "import numpy as np\n",
    "X = np.array([[1,2],\n",
    "     [3,5],\n",
    "     [8,9]])\n",
    "Y = np.array([[4,5],\n",
    "     [8,4]])\n",
    "\n",
    "multiply = np.dot(X,Y)\n",
    "print(\"The multiplication of matrices\\n\",X,\"   and \\n\\n\", Y, \"    is : \\n\\n \",multiply)"
   ]
  },
  {
   "cell_type": "markdown",
   "metadata": {},
   "source": [
    "**3. Write a Python Program to Transpose a Matrix.**"
   ]
  },
  {
   "cell_type": "code",
   "execution_count": 35,
   "metadata": {},
   "outputs": [
    {
     "name": "stdout",
     "output_type": "stream",
     "text": [
      "The transpose of \n",
      " [[1 3 5]\n",
      " [2 4 6]\n",
      " [7 4 1]]   is :\n",
      "\n",
      " [[1 2 7]\n",
      " [3 4 4]\n",
      " [5 6 1]]\n"
     ]
    }
   ],
   "source": [
    "Z = np.array([[1,3,5],\n",
    "     [2,4,6],\n",
    "     [7,4,1]])\n",
    "\n",
    "transpos = np.transpose(Z)\n",
    "print(\"The transpose of \\n\",Z,\"  is :\\n\\n\",transpos)"
   ]
  },
  {
   "cell_type": "markdown",
   "metadata": {},
   "source": [
    "**4. Write a Python Program to Sort Words in Alphabetic Order.**"
   ]
  },
  {
   "cell_type": "code",
   "execution_count": 51,
   "metadata": {},
   "outputs": [
    {
     "name": "stdout",
     "output_type": "stream",
     "text": [
      "Enter a sentence : Write a Python Program to Sort Words in Alphabetic Order\n",
      "\n",
      "The sorted sentence in Alphabetical order is : \n",
      "  a alphabetic in order program python sort to words write\n"
     ]
    }
   ],
   "source": [
    "a = input(\"Enter a sentence : \")\n",
    "sentence = [i.lower() for i in a.split()]\n",
    "sentence.sort()\n",
    "print(\"\\nThe sorted sentence in Alphabetical order is : \\n \",' '.join(sentence))"
   ]
  },
  {
   "cell_type": "markdown",
   "metadata": {},
   "source": [
    "**5. Write a Python Program to Remove Punctuation From a String?**"
   ]
  },
  {
   "cell_type": "code",
   "execution_count": 58,
   "metadata": {},
   "outputs": [
    {
     "name": "stdout",
     "output_type": "stream",
     "text": [
      "Enter a sentence : Write a Python Program to Remove Punc/tuation From a String.;'.;';'\n",
      "Write a Python Program to Remove Punctuation From a String\n"
     ]
    }
   ],
   "source": [
    "a = input(\"Enter a sentence : \")\n",
    "def punctuation_remover(a):    \n",
    "    line = \"\"\n",
    "    import string\n",
    "    for i in a:\n",
    "        if i not in string.punctuation:\n",
    "            line = line + i\n",
    "    return line\n",
    "print(punctuation_remover(a))"
   ]
  }
 ],
 "metadata": {
  "kernelspec": {
   "display_name": "Python 3",
   "language": "python",
   "name": "python3"
  },
  "language_info": {
   "codemirror_mode": {
    "name": "ipython",
    "version": 3
   },
   "file_extension": ".py",
   "mimetype": "text/x-python",
   "name": "python",
   "nbconvert_exporter": "python",
   "pygments_lexer": "ipython3",
   "version": "3.7.6"
  }
 },
 "nbformat": 4,
 "nbformat_minor": 4
}
