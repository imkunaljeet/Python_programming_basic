{
 "cells": [
  {
   "cell_type": "markdown",
   "metadata": {},
   "source": [
    "**1. Write a Python Program to find LCM.**"
   ]
  },
  {
   "cell_type": "code",
   "execution_count": 7,
   "metadata": {},
   "outputs": [
    {
     "name": "stdout",
     "output_type": "stream",
     "text": [
      "Enter number 1 : 5\n",
      "Enter number 2 : 6\n",
      "LCM of 5 and 6 is 30\n"
     ]
    }
   ],
   "source": [
    "n1 = int(input('Enter number 1 : '))\n",
    "n2 = int(input('Enter number 2 : '))\n",
    "\n",
    "greater = max(n1,n2)\n",
    "\n",
    "while(True):\n",
    "    if (greater % n1 == 0) and (greater % n2 == 0):\n",
    "        LCM = greater\n",
    "        break\n",
    "    greater += 1\n",
    "\n",
    "print(\"LCM of\",n1,\"and\",n2,\"is\",LCM)"
   ]
  },
  {
   "cell_type": "markdown",
   "metadata": {},
   "source": [
    "**2. Write a Python Program to find HCF.**"
   ]
  },
  {
   "cell_type": "code",
   "execution_count": 10,
   "metadata": {},
   "outputs": [
    {
     "name": "stdout",
     "output_type": "stream",
     "text": [
      "Enter number 1 : 25\n",
      "Enter number 2 : 45\n",
      "HCF of 25 and 45 is 5\n"
     ]
    }
   ],
   "source": [
    "n1 = int(input('Enter number 1 : '))\n",
    "n2 = int(input('Enter number 2 : '))\n",
    "\n",
    "lesser = min(n1,n2)\n",
    "\n",
    "while(True):\n",
    "    if (n1 % lesser == 0) and (n2 % lesser == 0):\n",
    "        HCF = lesser\n",
    "        break\n",
    "    lesser -= 1\n",
    "\n",
    "print(f\"HCF of {n1} and {n2} is {HCF}\")"
   ]
  },
  {
   "cell_type": "markdown",
   "metadata": {},
   "source": [
    "**3. Write a Python Program to convert Decimal to Binary, Octal and Hexadecimal.**"
   ]
  },
  {
   "cell_type": "code",
   "execution_count": 13,
   "metadata": {},
   "outputs": [
    {
     "name": "stdout",
     "output_type": "stream",
     "text": [
      "Enter an integer in Decimal number system : 36\n",
      "36 in Decimal number system is :\n",
      "0b100100 in Binary number system\n",
      "0o44 in Octal number system\n",
      "0x24 in Hexadecimal number system\n"
     ]
    }
   ],
   "source": [
    "decimal_number = int(input(\"Enter an integer in Decimal number system : \"))\n",
    "\n",
    "print(decimal_number,\"in Decimal number system is :\")\n",
    "print(bin(decimal_number),\"in Binary number system\")\n",
    "print(oct(decimal_number),\"in Octal number system\")\n",
    "print(hex(decimal_number),\"in Hexadecimal number system\")"
   ]
  },
  {
   "cell_type": "markdown",
   "metadata": {},
   "source": [
    "**4. Write a Program to find ASCII value of a character.**"
   ]
  },
  {
   "cell_type": "code",
   "execution_count": 14,
   "metadata": {},
   "outputs": [
    {
     "name": "stdout",
     "output_type": "stream",
     "text": [
      "Enter a character from your keyboard : |\n",
      "The ASCII value of | is 124\n"
     ]
    }
   ],
   "source": [
    "a = input(\"Enter a character from your keyboard : \")\n",
    "\n",
    "print(f\"The ASCII value of {a} is {ord(a)}\")"
   ]
  },
  {
   "cell_type": "markdown",
   "metadata": {},
   "source": [
    "**5. Write a Python Program to make a simple calculator with 4 basic mathematical operatiions.**"
   ]
  },
  {
   "cell_type": "code",
   "execution_count": 17,
   "metadata": {},
   "outputs": [
    {
     "name": "stdout",
     "output_type": "stream",
     "text": [
      "To perform basic arithmetical operations : \n",
      " \n",
      "      Enter 1 for addition \n",
      "\n",
      "      Enter 2 for subtraction \n",
      "\n",
      "      Enter 3 for multiplication \n",
      "\n",
      "      Enter 4 for division\n",
      "\n",
      "      \n",
      "Enter- 1, 2, 3 or 4 : 4\n",
      "Enter the first number : 5\n",
      "Enter the second number : 8\n",
      "5.0 / 8.0 = 0.625\n"
     ]
    }
   ],
   "source": [
    "def add(a,b):\n",
    "    return a + b\n",
    "\n",
    "def subtract(a,b):\n",
    "    return a - b\n",
    "\n",
    "def multiply(a,b):\n",
    "    return a * b\n",
    "\n",
    "def divide(a,b):\n",
    "    return a / b\n",
    "\n",
    "print(\"\"\"To perform basic arithmetical operations : \\n \n",
    "      Enter 1 for addition \\n\n",
    "      Enter 2 for subtraction \\n\n",
    "      Enter 3 for multiplication \\n\n",
    "      Enter 4 for division\\n\n",
    "      \"\"\")\n",
    "\n",
    "choice = int(input(\"Enter- 1, 2, 3 or 4 : \"))\n",
    "n1 = float(input(\"Enter the first number : \"))\n",
    "n2 = float(input(\"Enter the second number : \"))\n",
    "\n",
    "\n",
    "if choice == 1:\n",
    "    print(n1,\"+\",n2,\"=\",add(n1,n2))\n",
    "elif choice == 2:\n",
    "    print(n1,\"-\",n2,\"=\",subtract(n1,n2))\n",
    "elif choice == 3:\n",
    "    print(n1, \"*\", n2, \"=\", multiply(n1,n2))\n",
    "elif choice == 4:\n",
    "    print(n1,\"/\",n2,\"=\",divide(n1,n2))\n",
    "else:\n",
    "    print('Invalid input')"
   ]
  }
 ],
 "metadata": {
  "kernelspec": {
   "display_name": "Python 3",
   "language": "python",
   "name": "python3"
  },
  "language_info": {
   "codemirror_mode": {
    "name": "ipython",
    "version": 3
   },
   "file_extension": ".py",
   "mimetype": "text/x-python",
   "name": "python",
   "nbconvert_exporter": "python",
   "pygments_lexer": "ipython3",
   "version": "3.7.6"
  }
 },
 "nbformat": 4,
 "nbformat_minor": 4
}
