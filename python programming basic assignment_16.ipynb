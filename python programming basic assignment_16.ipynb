{
 "cells": [
  {
   "cell_type": "markdown",
   "metadata": {},
   "source": [
    "**Question1.\\\n",
    "Write a function that stutters a word as if someone is struggling to read it. The first two letters are repeated twice with an ellipsis ... and space after each, and then the word is pronounced with a question mark ?.\\\n",
    "Examples**\\\n",
    "stutter(&quot;incredible&quot;) ➞ &quot;in... in... incredible?&quot;\\\n",
    "stutter(&quot;enthusiastic&quot;) ➞ &quot;en... en... enthusiastic?&quot;\\\n",
    "stutter(&quot;outstanding&quot;) ➞ &quot;ou... ou... outstanding?&quot;\n",
    "\n",
    "**Hint :- Assume all input is in lower case and at least two characters long.**"
   ]
  },
  {
   "cell_type": "code",
   "execution_count": 6,
   "metadata": {},
   "outputs": [
    {
     "name": "stdout",
     "output_type": "stream",
     "text": [
      "in... in... incredible?\n",
      "en... en... enthusiastic?\n",
      "ou... ou... outstanding?\n"
     ]
    }
   ],
   "source": [
    "def stutter(string):\n",
    "    return (string[0:2]+\"... \")*2+string+\"?\"\n",
    "print(stutter(\"incredible\"))\n",
    "print(stutter(\"enthusiastic\"))\n",
    "print(stutter(\"outstanding\"))"
   ]
  },
  {
   "cell_type": "markdown",
   "metadata": {},
   "source": [
    "**Question 2.\\\n",
    "Create a function that takes an angle in radians and returns the corresponding angle in degrees rounded to one decimal place.\\\n",
    "Examples**\\\n",
    "radians_to_degrees(1) ➞ 57.3\\\n",
    "radians_to_degrees(20) ➞ 1145.9\\\n",
    "radians_to_degrees(50) ➞ 2864.8"
   ]
  },
  {
   "cell_type": "code",
   "execution_count": 13,
   "metadata": {},
   "outputs": [
    {
     "name": "stdout",
     "output_type": "stream",
     "text": [
      "Enter angle in radians : 5.23\n",
      "5.23 radian in degrees :  299.7\n"
     ]
    }
   ],
   "source": [
    "radian = float(input(\"Enter angle in radians : \"))\n",
    "def radians_to_degrees(radian):\n",
    "    import math\n",
    "    degree = round(radian*(180/math.pi),ndigits=1)\n",
    "    return degree\n",
    "print(radian,\"radian in degrees : \",radians_to_degrees(radian))"
   ]
  },
  {
   "cell_type": "markdown",
   "metadata": {},
   "source": [
    "**Question 3.\\\n",
    "In this challenge, establish if a given integer num is a Curzon number. If 1 plus 2 elevated to num is exactly divisible by 1 plus 2 multiplied by num, then num is a Curzon number. Given a non-negative integer num, implement a function that returns True if num is a Curzon number, or False otherwise.\\\n",
    "Examples**\\\n",
    "is_curzon(5) ➞ True\\\n",
    "\\# 2 ** 5 + 1 = 33\\\n",
    "\\# 2 * 5 + 1 = 11\\\n",
    "\\# 33 is a multiple of 11\n",
    "\n",
    "is_curzon(10) ➞ False\\\n",
    "\\# 2 ** 10 + 1 = 1025\\\n",
    "\\# 2 * 10 + 1 = 21\\\n",
    "\\# 1025 is not a multiple of 21\n",
    "\n",
    "is_curzon(14) ➞ True\\\n",
    "\\# 2 ** 14 + 1 = 16385\\\n",
    "\\# 2 * 14 + 1 = 29\\\n",
    "\\# 16385 is a multiple of 29"
   ]
  },
  {
   "cell_type": "code",
   "execution_count": 17,
   "metadata": {},
   "outputs": [
    {
     "name": "stdout",
     "output_type": "stream",
     "text": [
      "Check if the given num is a Curzon number : 10\n"
     ]
    },
    {
     "data": {
      "text/plain": [
       "False"
      ]
     },
     "execution_count": 17,
     "metadata": {},
     "output_type": "execute_result"
    }
   ],
   "source": [
    "def is_Curzon_num(x):\n",
    "    a = 1 + 2**x\n",
    "    b = 1 + 2*x\n",
    "    if a % b == 0:\n",
    "        return True\n",
    "    else:\n",
    "        return False\n",
    "x = int(input(\"Check if the given num is a Curzon number : \"))\n",
    "is_Curzon_num(x)"
   ]
  },
  {
   "cell_type": "markdown",
   "metadata": {},
   "source": [
    "**Question 4.\\\n",
    "Given the side length x find the area of a hexagon.\\\n",
    "Examples**\\\n",
    "area_of_hexagon(1) ➞ 2.6\\\n",
    "area_of_hexagon(2) ➞ 10.4\\\n",
    "area_of_hexagon(3) ➞ 23.4"
   ]
  },
  {
   "cell_type": "code",
   "execution_count": 22,
   "metadata": {
    "scrolled": true
   },
   "outputs": [
    {
     "name": "stdout",
     "output_type": "stream",
     "text": [
      "Enter the side length of hexagon : 3\n",
      "The area of hexagon with side length 3 units : 23.4 units\n"
     ]
    }
   ],
   "source": [
    "import math\n",
    "def area_of_hexagon(x):\n",
    "    area = round((3*math.sqrt(3)*(x**2))/2,ndigits=1)\n",
    "    return area\n",
    "x = input(\"Enter the side length of hexagon : \")\n",
    "print(\"The area of hexagon with side length\",x,\"units :\",area_of_hexagon(3),\"units\")"
   ]
  },
  {
   "cell_type": "markdown",
   "metadata": {},
   "source": [
    "**Question 5.\\\n",
    "Create a function that returns a base-2 (binary) representation of a base-10 (decimal) string number. To convert is simple: ((2) means base-2 and (10) means base-10) 010101001(2) = 1 + 8 + 32 + 128.**\n",
    "\n",
    "**Going from right to left, the value of the most right bit is 1, now from that every bit to the left will be x2 the value, value of an 8 bit binary numbers are (256, 128, 64, 32, 16, 8, 4, 2, 1).\n",
    "Examples**\\\n",
    "binary(1) ➞ &quot;1&quot;\\\n",
    "\\# 1\\*1 = 1\n",
    "\n",
    "binary(5) ➞ &quot;101&quot;\\\n",
    "\\# 1\\*1 + 1*4 = 5\n",
    "\n",
    "binary(10) ➞ &quot;1010&quot;\\\n",
    "\\# 1\\*2 + 1*8 = 10"
   ]
  },
  {
   "cell_type": "code",
   "execution_count": 42,
   "metadata": {},
   "outputs": [
    {
     "name": "stdout",
     "output_type": "stream",
     "text": [
      "Enter a number : 56\n",
      "56 in binary form :  111000\n"
     ]
    }
   ],
   "source": [
    "def decimal_to_bin(x):\n",
    "    return bin(x)[2:]\n",
    "x = int(input(\"Enter a number : \"))\n",
    "print(x,\"in binary form : \",decimal_to_bin(x))"
   ]
  }
 ],
 "metadata": {
  "kernelspec": {
   "display_name": "Python 3",
   "language": "python",
   "name": "python3"
  },
  "language_info": {
   "codemirror_mode": {
    "name": "ipython",
    "version": 3
   },
   "file_extension": ".py",
   "mimetype": "text/x-python",
   "name": "python",
   "nbconvert_exporter": "python",
   "pygments_lexer": "ipython3",
   "version": "3.7.6"
  }
 },
 "nbformat": 4,
 "nbformat_minor": 4
}
