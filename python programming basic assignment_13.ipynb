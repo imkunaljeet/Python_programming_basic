{
 "cells": [
  {
   "cell_type": "markdown",
   "metadata": {},
   "source": [
    "**Question 1:\n",
    "Write a program that calculates and prints the value according to the given formula:**\\\n",
    "Q = Square root of [(2 * C * D)/H]\\\n",
    "**Following are the fixed values of C and H:**\\\n",
    "C is 50. H is 30.\\\n",
    "**D is the variable whose values should be input to your program in a comma-separated\n",
    "sequence.**\\\n",
    "**Example\\\n",
    "Let us assume the following comma separated input sequence is given to the program:**\\\n",
    "100,150,180\\\n",
    "**The output of the program should be:**\\\n",
    "18,22,24\n",
    "\n"
   ]
  },
  {
   "cell_type": "code",
   "execution_count": 31,
   "metadata": {},
   "outputs": [
    {
     "name": "stdout",
     "output_type": "stream",
     "text": [
      "Enter values of D : 100,150,180\n",
      "The respective values of Q :  18,22,24\n"
     ]
    }
   ],
   "source": [
    "import math\n",
    "C,H = 50,30\n",
    "D_variable = input(\"Enter values of D : \")\n",
    "D_variable = D_variable.split(\",\")\n",
    "\n",
    "output_list = []\n",
    "for D in D_variable:\n",
    "    Q = round(math.sqrt((2*C*int(D)) / H))\n",
    "    output_list.append(str(Q))\n",
    "\n",
    "print(\"The respective values of Q : \",\",\".join(output_list))"
   ]
  },
  {
   "cell_type": "markdown",
   "metadata": {},
   "source": [
    "**Question 2:\\\n",
    "Write a program which takes 2 digits, X,Y as input and generates a 2-dimensional array. The element value in the i-th row and j-th column of the array should be i*j.\\\n",
    "Note: i=0,1, .. , X-1 ;  j=0,1, .. ,Y-1.\\\n",
    "Example\\\n",
    "Suppose the following inputs are given to the program:**\\\n",
    "3,5\\\n",
    "**Then, the output of the program should be:**\\\n",
    "[[0, 0, 0, 0, 0], [0, 1, 2, 3, 4], [0, 2, 4, 6, 8]]"
   ]
  },
  {
   "cell_type": "markdown",
   "metadata": {},
   "source": [
    "**Solution (i)**"
   ]
  },
  {
   "cell_type": "code",
   "execution_count": 23,
   "metadata": {},
   "outputs": [
    {
     "name": "stdout",
     "output_type": "stream",
     "text": [
      "Enter X,Y : 3,5\n",
      "[[0, 0, 0, 0, 0], [0, 1, 2, 3, 4], [0, 2, 4, 6, 8]]\n"
     ]
    }
   ],
   "source": [
    "row,col = input(\"Enter X,Y : \").split(\",\")\n",
    "X = int(row)\n",
    "Y = int(col)\n",
    "two_d_list = []\n",
    "for i in range(X):\n",
    "    row = []\n",
    "    for j in range(Y):\n",
    "        row.append(i*j)\n",
    "    two_d_list.append(row)\n",
    "print(two_d_list)"
   ]
  },
  {
   "cell_type": "markdown",
   "metadata": {},
   "source": [
    "**Solution (ii)**"
   ]
  },
  {
   "cell_type": "code",
   "execution_count": 24,
   "metadata": {},
   "outputs": [
    {
     "name": "stdout",
     "output_type": "stream",
     "text": [
      "Enter X,Y : 3,5\n",
      "[[0. 0. 0. 0. 0.]\n",
      " [0. 1. 2. 3. 4.]\n",
      " [0. 2. 4. 6. 8.]]\n"
     ]
    }
   ],
   "source": [
    "import numpy as np\n",
    "row,col = input(\"Enter X,Y : \").split(\",\")\n",
    "X = int(row)\n",
    "Y = int(col)\n",
    "print(np.fromfunction(lambda i,j : i*j, (X,Y)))"
   ]
  },
  {
   "cell_type": "markdown",
   "metadata": {},
   "source": [
    "**Question 3:\\\n",
    "Write a program that accepts a comma separated sequence of words as input and prints the words in a comma-separated sequence after sorting them alphabetically.\\\n",
    "Suppose the following input is supplied to the program:**\\\n",
    "without,hello,bag,world\\\n",
    "**Then, the output should be:**\\\n",
    "bag,hello,without,world"
   ]
  },
  {
   "cell_type": "code",
   "execution_count": 32,
   "metadata": {},
   "outputs": [
    {
     "name": "stdout",
     "output_type": "stream",
     "text": [
      "Enter words separated by commas : without,hello,bag,world\n",
      "Sorted words :  bag,hello,without,world\n"
     ]
    }
   ],
   "source": [
    "words = input(\"Enter words separated by commas : \").split(\",\")\n",
    "words.sort()\n",
    "print(\"Sorted words : \",\",\".join(words))"
   ]
  },
  {
   "cell_type": "markdown",
   "metadata": {},
   "source": [
    "**Question 4:\\\n",
    "Write a program that accepts a sequence of whitespace separated words as input and prints the words after removing all duplicate words and sorting them alphanumerically.\\\n",
    "Suppose the following input is supplied to the program:**\\\n",
    "hello world and practice makes perfect and hello world again\\\n",
    "**Then, the output should be:**\\\n",
    "again and hello makes perfect practice world"
   ]
  },
  {
   "cell_type": "code",
   "execution_count": 45,
   "metadata": {},
   "outputs": [
    {
     "name": "stdout",
     "output_type": "stream",
     "text": [
      "Enter some words : hello world and practice makes perfect and hello world again\n",
      "Sorted words : again and hello makes perfect practice world\n"
     ]
    }
   ],
   "source": [
    "words = input(\"Enter some words : \").split()\n",
    "a = sorted(set(words))\n",
    "print(\"Sorted words :\",\" \".join(a))"
   ]
  },
  {
   "cell_type": "markdown",
   "metadata": {},
   "source": [
    "**Question 5:\\\n",
    "Write a program that accepts a sentence and calculate the number of letters and digits.\\\n",
    "Suppose the following input is supplied to the program:**\\\n",
    "hello world! 123\\\n",
    "**Then, the output should be:**\\\n",
    "LETTERS 10\\\n",
    "DIGITS 3"
   ]
  },
  {
   "cell_type": "code",
   "execution_count": 48,
   "metadata": {},
   "outputs": [
    {
     "name": "stdout",
     "output_type": "stream",
     "text": [
      "Enter a sentence : hello world! 123\n",
      "LETTERS 10\n",
      "DIGITS 3\n"
     ]
    }
   ],
   "source": [
    "sentence = input(\"Enter a sentence : \")\n",
    "LETTERS = 0\n",
    "DIGITS = 0\n",
    "\n",
    "for i in sentence:\n",
    "    if i.isalpha():\n",
    "        LETTERS = LETTERS + 1\n",
    "    elif i.isnumeric():\n",
    "        DIGITS = DIGITS + 1\n",
    "    else :\n",
    "        pass\n",
    "    \n",
    "print(\"LETTERS\",LETTERS)\n",
    "print(\"DIGITS\",DIGITS)"
   ]
  },
  {
   "cell_type": "markdown",
   "metadata": {},
   "source": [
    "**Question 6:\\\n",
    "A website requires the users to input username and password to register. Write a program to check the validity of password input by users.\\\n",
    "Following are the criteria for checking the password:**\\\n",
    "1. At least 1 letter between [a-z]\n",
    "2. At least 1 number between [0-9]\n",
    "1. At least 1 letter between [A-Z]\n",
    "3. At least 1 character from [$#@]\n",
    "4. Minimum length of transaction password: 6\n",
    "5. Maximum length of transaction password: 12\n",
    "\n",
    "**Your program should accept a sequence of comma separated passwords and will check them according to the above criteria. Passwords that match the criteria are to be printed, each separated by a comma.\\\n",
    "Example\\\n",
    "If the following passwords are given as input to the program:**\\\n",
    "ABd1234@1,a F1#,2w3E*,2We3345\n",
    "\n",
    "**Then, the output of the program should be:**\\\n",
    "ABd1234@1"
   ]
  },
  {
   "cell_type": "code",
   "execution_count": 70,
   "metadata": {},
   "outputs": [
    {
     "name": "stdout",
     "output_type": "stream",
     "text": [
      "Enter passwords separated by commas : ABd1234@1,a F1#,2w3E*,2We3345\n",
      "Valid password :  ABd1234@1\n"
     ]
    }
   ],
   "source": [
    "import re\n",
    "passwords = input(\"Enter passwords separated by commas : \").split(\",\")\n",
    "valid_password = []\n",
    "for i in passwords:\n",
    "    if len(i) < 6 or len(i) >12:\n",
    "        continue\n",
    "    elif not re.search(\"[a-z]+\",i):\n",
    "        continue\n",
    "    elif not re.search(\"[A-Z]+\",i):\n",
    "        continue\n",
    "    elif not re.search(\"[$#@]\",i):\n",
    "        continue\n",
    "    else:\n",
    "        valid_password.append(i)\n",
    "print(\"Valid password : \",\" \".join(valid_password))"
   ]
  }
 ],
 "metadata": {
  "kernelspec": {
   "display_name": "Python 3",
   "language": "python",
   "name": "python3"
  },
  "language_info": {
   "codemirror_mode": {
    "name": "ipython",
    "version": 3
   },
   "file_extension": ".py",
   "mimetype": "text/x-python",
   "name": "python",
   "nbconvert_exporter": "python",
   "pygments_lexer": "ipython3",
   "version": "3.7.6"
  }
 },
 "nbformat": 4,
 "nbformat_minor": 4
}
