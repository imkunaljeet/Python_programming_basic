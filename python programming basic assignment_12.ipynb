{
 "cells": [
  {
   "cell_type": "markdown",
   "metadata": {},
   "source": [
    "**1. Write a Python program to Extract Unique values dictionary values.**"
   ]
  },
  {
   "cell_type": "code",
   "execution_count": 15,
   "metadata": {},
   "outputs": [
    {
     "name": "stdout",
     "output_type": "stream",
     "text": [
      "The dictionary is :  {'a': ['kunal', 'ravi', 'chavi'], 'b': [1, 2, 3, 4], 'c': [3, 4, 5, 6], 'd': [5, 6, 7]}\n",
      "\n",
      "Unique values in dictionary are : \n",
      "[1, 2, 3, 4, 5, 6, 7, 'ravi', 'kunal', 'chavi']\n"
     ]
    }
   ],
   "source": [
    "def unique_values(dictionary):\n",
    "    unique = list(set({i for value in dictionary.values() for i in value}))\n",
    "    return unique\n",
    "\n",
    "dictionary = {'a' : [\"kunal\",\"ravi\",\"chavi\"],\n",
    "              'b' : [1, 2, 3, 4],\n",
    "              'c' : [3, 4, 5, 6],\n",
    "              'd' : [5, 6, 7]}\n",
    "\n",
    "print(\"The dictionary is : \", dictionary)\n",
    "print(\"\\nUnique values in dictionary are : \")\n",
    "print(unique_values(dictionary))"
   ]
  },
  {
   "cell_type": "markdown",
   "metadata": {},
   "source": [
    "**2. Write a Python program to find the sum of all items in a dictionary.**"
   ]
  },
  {
   "cell_type": "code",
   "execution_count": 7,
   "metadata": {},
   "outputs": [
    {
     "name": "stdout",
     "output_type": "stream",
     "text": [
      "dict_keys(['locks', 'nuts', 'screws', 'hinges', 'tap'])\n",
      "Sum of cost of all above items :  343\n"
     ]
    }
   ],
   "source": [
    "def sum_of_items(d):\n",
    "    SUM = 0\n",
    "    for i in hardware.values():\n",
    "        SUM = SUM + i\n",
    "    return SUM\n",
    "\n",
    "hardware = {\"locks\" : 100,\n",
    "            \"nuts\" : 2,\n",
    "            \"screws\" : 1,\n",
    "            \"hinges\": 30,\n",
    "            \"tap\" : 210}\n",
    "\n",
    "print(hardware.keys())\n",
    "print(\"Sum of cost of all above items : \",sum_of_items(hardware))"
   ]
  },
  {
   "cell_type": "markdown",
   "metadata": {},
   "source": [
    "**3. Write a Python program to Merging two Dictionaries.**"
   ]
  },
  {
   "cell_type": "code",
   "execution_count": 17,
   "metadata": {},
   "outputs": [
    {
     "name": "stdout",
     "output_type": "stream",
     "text": [
      "Dictionary 1 :  {'x': 10, 'y': 26, 'z': 15}\n",
      "Dictionary 2 :  {'a': 15, 'b': 45, 'c': 78}\n",
      "\n",
      "The merged dictionary is : \n",
      "{'x': 10, 'y': 26, 'z': 15, 'a': 15, 'b': 45, 'c': 78}\n"
     ]
    }
   ],
   "source": [
    "def merge_dict(a,b):\n",
    "    merge = {**a,**b}\n",
    "    return merge\n",
    "\n",
    "dict1 = {\"x\" : 10, \"y\" : 26, \"z\" : 15}\n",
    "dict2 = {\"a\" : 15, \"b\" : 45, \"c\" : 78}\n",
    "\n",
    "print(\"Dictionary 1 : \", dict1)\n",
    "print(\"Dictionary 2 : \", dict2)\n",
    "print(\"\\nThe merged dictionary is : \")\n",
    "print(merge_dict(dict1,dict2))"
   ]
  },
  {
   "cell_type": "markdown",
   "metadata": {},
   "source": [
    "**4. Write a Python program to convert key-values list to flat dictionary.**"
   ]
  },
  {
   "cell_type": "code",
   "execution_count": 20,
   "metadata": {},
   "outputs": [
    {
     "name": "stdout",
     "output_type": "stream",
     "text": [
      "Original dictionary :  {'Name': ['Kunal', 'Shubham', 'Ashutosh'], 'Serial no.': [1, 2, 3]}\n",
      "\n",
      "The flattened dictionary :  {1: 'Kunal', 2: 'Shubham', 3: 'Ashutosh'}\n"
     ]
    }
   ],
   "source": [
    "dict3 = {\"Name\" : [\"Kunal\",\"Shubham\",\"Ashutosh\"],\n",
    "         \"Serial no.\" : [1,2,3]}\n",
    "print(\"Original dictionary : \", dict3)\n",
    "\n",
    "dict4 = dict(zip(dict3[\"Serial no.\"],dict3[\"Name\"]))\n",
    "print(\"\\nThe flattened dictionary : \", dict4)\n"
   ]
  },
  {
   "cell_type": "markdown",
   "metadata": {},
   "source": [
    "**5. Write a Python program to insertion at the beginning in OrderedDict.**"
   ]
  },
  {
   "cell_type": "code",
   "execution_count": 26,
   "metadata": {},
   "outputs": [
    {
     "name": "stdout",
     "output_type": "stream",
     "text": [
      "The original ordered dictionary :  OrderedDict([('a', 'kunal'), ('b', 'ravi'), ('c', 'aman')])\n",
      "\n",
      "Dictionary after inserting an element at the beginning : \n",
      "OrderedDict([('d', 'aditya'), ('a', 'kunal'), ('b', 'ravi'), ('c', 'aman')])\n"
     ]
    }
   ],
   "source": [
    "from collections import OrderedDict\n",
    "d = OrderedDict()\n",
    "d['a'] = \"kunal\"\n",
    "d['b'] = \"ravi\"\n",
    "d['c'] = \"aman\"\n",
    "print(\"The original ordered dictionary : \",d)\n",
    "\n",
    "d.update({'d':\"aditya\"})\n",
    "d.move_to_end('d',last = False)\n",
    "print(\"\\nDictionary after inserting an element at the beginning : \")\n",
    "print(d)    "
   ]
  },
  {
   "cell_type": "markdown",
   "metadata": {},
   "source": [
    "**6. Write a Python program to check order of character in string using OrderedDict().**"
   ]
  },
  {
   "cell_type": "code",
   "execution_count": 27,
   "metadata": {},
   "outputs": [
    {
     "name": "stdout",
     "output_type": "stream",
     "text": [
      "True\n"
     ]
    }
   ],
   "source": [
    "from collections import OrderedDict\n",
    "def string_order(string,str_pattern):\n",
    "    dict5 = OrderedDict.fromkeys(string)\n",
    "    pattern_len = 0\n",
    "    for key,value in dict5.items():\n",
    "        if key == str_pattern[pattern_len] :\n",
    "            pattern_len += 1\n",
    "        if pattern_len == len(str_pattern):\n",
    "            return True\n",
    "\n",
    "    return False\n",
    "\n",
    "string = 'kunal jeet'\n",
    "str_pattern = 'nl'\n",
    "print(string_order(string,str_pattern))"
   ]
  },
  {
   "cell_type": "markdown",
   "metadata": {},
   "source": [
    "**7. Write a Python program to sort Python Dictionaries by Key or Value.**"
   ]
  },
  {
   "cell_type": "markdown",
   "metadata": {},
   "source": [
    "#### Sorting by keys"
   ]
  },
  {
   "cell_type": "code",
   "execution_count": 36,
   "metadata": {},
   "outputs": [
    {
     "name": "stdout",
     "output_type": "stream",
     "text": [
      "Original Dictionary : \n",
      "{'kunal': '94', 'ashwin': '49', 'gopal': '36', 'tanmay': '77', 'shaurya': '32'}\n",
      "\n",
      "The sorted dictionary by its keys is : \n",
      "OrderedDict([('ashwin', '49'), ('gopal', '36'), ('kunal', '94'), ('shaurya', '32'), ('tanmay', '77')])\n"
     ]
    }
   ],
   "source": [
    "dict5 = {'kunal': '94', 'ashwin': '49','gopal': '36', 'tanmay': '77', 'shaurya': '32'}\n",
    "print(\"Original Dictionary : \")\n",
    "print(dict5)\n",
    "\n",
    "dict6 = OrderedDict(sorted(dict1.items()))\n",
    "print(\"\\nThe sorted dictionary by its keys is : \")\n",
    "print(dict6)"
   ]
  },
  {
   "cell_type": "markdown",
   "metadata": {},
   "source": [
    "#### Sorting by values"
   ]
  },
  {
   "cell_type": "code",
   "execution_count": 41,
   "metadata": {},
   "outputs": [
    {
     "name": "stdout",
     "output_type": "stream",
     "text": [
      "Original Dictionary : \n",
      "{'kunal': '94', 'ashwin': '49', 'gopal': '36', 'tanmay': '77', 'shaurya': '32'}\n",
      "\n",
      "The sorted dictionary by its values is : \n",
      "{'shaurya': '32', 'gopal': '36', 'ashwin': '49', 'tanmay': '77', 'kunal': '94'}\n"
     ]
    }
   ],
   "source": [
    "print(\"Original Dictionary : \")\n",
    "print(dict5)\n",
    "\n",
    "def Sort_by_value(d):\n",
    "    sorted_values = sorted(dict1.values())\n",
    "    sorted_dict = {}\n",
    "    for i in sorted_values:\n",
    "        for j in dict5.keys():\n",
    "            if dict5[j] == i:\n",
    "                sorted_dict[j] = dict5[j]\n",
    "    return sorted_dict\n",
    "\n",
    "print(\"\\nThe sorted dictionary by its values is : \")\n",
    "print(Sort_by_value(dict5)) "
   ]
  }
 ],
 "metadata": {
  "kernelspec": {
   "display_name": "Python 3",
   "language": "python",
   "name": "python3"
  },
  "language_info": {
   "codemirror_mode": {
    "name": "ipython",
    "version": 3
   },
   "file_extension": ".py",
   "mimetype": "text/x-python",
   "name": "python",
   "nbconvert_exporter": "python",
   "pygments_lexer": "ipython3",
   "version": "3.7.6"
  }
 },
 "nbformat": 4,
 "nbformat_minor": 4
}
