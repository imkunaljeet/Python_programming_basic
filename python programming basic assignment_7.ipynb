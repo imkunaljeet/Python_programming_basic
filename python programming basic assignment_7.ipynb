{
 "cells": [
  {
   "cell_type": "markdown",
   "metadata": {},
   "source": [
    "1. Write a Python Program to find sum of array?"
   ]
  },
  {
   "cell_type": "code",
   "execution_count": 8,
   "metadata": {},
   "outputs": [
    {
     "name": "stdout",
     "output_type": "stream",
     "text": [
      "Enter an array : [54,46,6]\n",
      "Sum of array is 106\n"
     ]
    }
   ],
   "source": [
    "import numpy\n",
    "a = eval(input(\"Enter an array : \"))\n",
    "if type(a) != list:\n",
    "    print(\"You haven't entered an array\")\n",
    "else :\n",
    "    print(\"Sum of array is\",sum((a)))"
   ]
  },
  {
   "cell_type": "markdown",
   "metadata": {},
   "source": [
    "2. Write a Python Program to find largest element in an array?"
   ]
  },
  {
   "cell_type": "code",
   "execution_count": 14,
   "metadata": {},
   "outputs": [
    {
     "name": "stdout",
     "output_type": "stream",
     "text": [
      "Enter an array : [56,1,2,3,456,789962]\n",
      "Largest element of the array is 789962\n"
     ]
    }
   ],
   "source": [
    "a = eval(input(\"Enter an array : \"))\n",
    "if type(a) != list:\n",
    "    print(\"You haven't entered an array\")\n",
    "else :\n",
    "    print(\"Largest element of the array is\",max((a)))"
   ]
  },
  {
   "cell_type": "markdown",
   "metadata": {},
   "source": [
    "3. Write a Python Program for array rotation?"
   ]
  },
  {
   "cell_type": "code",
   "execution_count": 6,
   "metadata": {},
   "outputs": [
    {
     "name": "stdout",
     "output_type": "stream",
     "text": [
      "Enter an array : [1,2]\n",
      "[2, 1]\n"
     ]
    }
   ],
   "source": [
    "l = []\n",
    "a = eval(input(\"Enter an array : \"))\n",
    "if type(a) != list:\n",
    "    print(\"You haven't entered an array\")\n",
    "else :\n",
    "    print(list(reversed(a)))    "
   ]
  },
  {
   "cell_type": "markdown",
   "metadata": {},
   "source": [
    "4. Write a Python Program to Split the array and add the first part to the end?"
   ]
  },
  {
   "cell_type": "code",
   "execution_count": 8,
   "metadata": {},
   "outputs": [
    {
     "name": "stdout",
     "output_type": "stream",
     "text": [
      "Enter an array: [1,2,3,4,5,6,7,8,9]\n",
      "Enter the position you want to split the array from : 2\n",
      "The split array is : [3, 4, 5, 6, 7, 8, 9, 1, 2]\n"
     ]
    }
   ],
   "source": [
    "a = eval(input(\"Enter an array: \"))\n",
    "t = int(input(\"Enter the position you want to split the array from : \"))\n",
    "\n",
    "def split_arr(a,t):\n",
    "    if type(a) != list:\n",
    "        return \"not an array\"\n",
    "    elif t <= 0:\n",
    "        return \"Enter positive integer\"\n",
    "    else:\n",
    "        b = a[:t]\n",
    "        return (a[t:] + b)\n",
    "print(\"The split array is :\",split_arr(a,t)) "
   ]
  },
  {
   "cell_type": "markdown",
   "metadata": {},
   "source": [
    "5. Write a Python Program to check if given array is Monotonic?"
   ]
  },
  {
   "cell_type": "code",
   "execution_count": 3,
   "metadata": {},
   "outputs": [
    {
     "name": "stdout",
     "output_type": "stream",
     "text": [
      "Enter an array : [1,3,5,7]\n",
      "True\n"
     ]
    }
   ],
   "source": [
    "def isMonotonic(B):\n",
    "    if type(B) != list:\n",
    "        return \"not an array\"\n",
    "    else:\n",
    "        return (all(B[i] <= B[i + 1] for i in range(len(B) - 1)) or all(B[i] >= B[i + 1] for i in range(len(B) - 1)))\n",
    "  \n",
    "C = eval(input(\"Enter an array : \"))\n",
    "  \n",
    "print(isMonotonic(C))"
   ]
  }
 ],
 "metadata": {
  "kernelspec": {
   "display_name": "Python 3",
   "language": "python",
   "name": "python3"
  },
  "language_info": {
   "codemirror_mode": {
    "name": "ipython",
    "version": 3
   },
   "file_extension": ".py",
   "mimetype": "text/x-python",
   "name": "python",
   "nbconvert_exporter": "python",
   "pygments_lexer": "ipython3",
   "version": "3.7.6"
  }
 },
 "nbformat": 4,
 "nbformat_minor": 4
}
