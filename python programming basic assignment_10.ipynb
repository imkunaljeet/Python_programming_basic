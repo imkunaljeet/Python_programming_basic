{
 "cells": [
  {
   "cell_type": "markdown",
   "metadata": {},
   "source": [
    "**1. Write a Python program to find sum of elements in list.**"
   ]
  },
  {
   "cell_type": "code",
   "execution_count": 3,
   "metadata": {},
   "outputs": [
    {
     "name": "stdout",
     "output_type": "stream",
     "text": [
      "no. of elements in list : 3\n",
      "5\n",
      "5\n",
      "5\n",
      "The list is :  [5, 5, 5]\n",
      "The sum of elements :  15\n"
     ]
    }
   ],
   "source": [
    "try:\n",
    "    list1 = []\n",
    "    n = int(input(\"no. of elements in list : \"))\n",
    "    for i in range(n):\n",
    "        list1.append(int(input()))\n",
    "    print(\"The list is : \",list1)\n",
    "    gross = 0\n",
    "    for i in range(len(list1)):\n",
    "        gross += list1[i]\n",
    "    print(\"The sum of elements : \",gross)\n",
    "    \n",
    "\n",
    "except:\n",
    "    print(\"The list consists of\",len(list1),\"elements as you didn't enter all integers : \",list1)\n",
    "    gross = 0\n",
    "    for i in range(len(list1)):\n",
    "        gross += list1[i]\n",
    "    print(\"The sum of elements : \",gross)"
   ]
  },
  {
   "cell_type": "markdown",
   "metadata": {},
   "source": [
    "**2. Write a Python program to Multiply all numbers in the list?**"
   ]
  },
  {
   "cell_type": "code",
   "execution_count": 7,
   "metadata": {},
   "outputs": [
    {
     "name": "stdout",
     "output_type": "stream",
     "text": [
      "The multiplication of all numbers in the list [1, 2, 3, 4, 5] :\n",
      "120\n"
     ]
    }
   ],
   "source": [
    "def multiply(x):\n",
    "    total = 1\n",
    "    for i in range(len(x)):\n",
    "        total = total * x[i]\n",
    "    return total\n",
    "a = [1,2,3,4,5]\n",
    "print(\"The multiplication of all numbers in the list\",a,\":\")\n",
    "print(multiply(a))"
   ]
  },
  {
   "cell_type": "markdown",
   "metadata": {},
   "source": [
    "**3. Write a Python program to find smallest number in a list?**"
   ]
  },
  {
   "cell_type": "code",
   "execution_count": 10,
   "metadata": {},
   "outputs": [
    {
     "name": "stdout",
     "output_type": "stream",
     "text": [
      "Enter some numbers separated by commas : 2,5,-5,4\n",
      "The list is :  [2, 5, -5, 4]\n",
      "The smallest number in the list :  -5\n"
     ]
    }
   ],
   "source": [
    "A = input(\"Enter some numbers separated by commas : \")\n",
    "l = []\n",
    "for i in A.split(\",\"):\n",
    "    l.append(int(i))\n",
    "print(\"The list is : \",l)\n",
    "\n",
    "min_ = l[0]\n",
    "for i in range(len(l)):\n",
    "    if l[i] < min_:\n",
    "        min_ = l[i]\n",
    "print(\"The smallest number in the list : \",min_)    "
   ]
  },
  {
   "cell_type": "markdown",
   "metadata": {},
   "source": [
    "**4. Write a Python program to find largest number in a list?**"
   ]
  },
  {
   "cell_type": "code",
   "execution_count": 13,
   "metadata": {},
   "outputs": [
    {
     "name": "stdout",
     "output_type": "stream",
     "text": [
      "Enter some numbers separated by commas : -8,-9,-89\n",
      "The list is :  [-8, -9, -89]\n",
      "The largest number in the list :  -8\n"
     ]
    }
   ],
   "source": [
    "B = input(\"Enter some numbers separated by commas : \")\n",
    "l1 = []\n",
    "for i in B.split(\",\"):\n",
    "    l1.append(int(i))\n",
    "print(\"The list is : \",l1)\n",
    "\n",
    "max_ = l1[0]\n",
    "for i in range(len(l1)):\n",
    "    if l1[i] > max_:\n",
    "        max_ = l1[i]\n",
    "print(\"The largest number in the list : \",max_)    "
   ]
  },
  {
   "cell_type": "markdown",
   "metadata": {},
   "source": [
    "**5. Write a Python program to find second largest number in a list?**"
   ]
  },
  {
   "cell_type": "code",
   "execution_count": 16,
   "metadata": {},
   "outputs": [
    {
     "name": "stdout",
     "output_type": "stream",
     "text": [
      "The second largest number is : \n",
      "5\n"
     ]
    }
   ],
   "source": [
    "def second_largest(list2):\n",
    "    \n",
    "    max_ = list2[0]\n",
    "    second_max = list2[0]\n",
    "    \n",
    "    for i in range(len(list2)):\n",
    "        if list2[i] > max_:\n",
    "            max_ = list2[i]\n",
    "    \n",
    "    for i in range(len(list2)):\n",
    "        if list2[i] > second_max and list2[i] != max_:\n",
    "            second_max = list2[i]\n",
    "    return second_max\n",
    "print(\"The second largest number is : \")\n",
    "print(second_largest([1,2,3,4,5,6]))"
   ]
  },
  {
   "cell_type": "markdown",
   "metadata": {},
   "source": [
    "**6. Write a Python program to find N largest elements from a list?**"
   ]
  },
  {
   "cell_type": "code",
   "execution_count": 18,
   "metadata": {},
   "outputs": [
    {
     "name": "stdout",
     "output_type": "stream",
     "text": [
      "[56, 14, 5]\n"
     ]
    }
   ],
   "source": [
    "# n largest element\n",
    "def n_largest_elements(list1,n):\n",
    "    final_elements = []\n",
    "    \n",
    "    for i in range(n):\n",
    "        max_ = list1[0]\n",
    "        for j in range(len(list1)):\n",
    "            if list1[j]>max_ :\n",
    "                max_ = list1[j]\n",
    "        final_elements.append(max_)\n",
    "        list1.remove(max_)\n",
    "    print(final_elements)\n",
    "    \n",
    "list1 = [1,2,-3,4,5,-32,14,56]   \n",
    "n = 3\n",
    "\n",
    "n_largest_elements(list1,n)"
   ]
  },
  {
   "cell_type": "markdown",
   "metadata": {},
   "source": [
    "**7. Write a Python program to print even numbers in a list?**"
   ]
  },
  {
   "cell_type": "code",
   "execution_count": 19,
   "metadata": {},
   "outputs": [
    {
     "name": "stdout",
     "output_type": "stream",
     "text": [
      "The initial list :  [1, 2, 3, 4, 5, 6, 7, 8, 9]\n",
      "Even integers in the initial list :  [2, 4, 6, 8]\n"
     ]
    }
   ],
   "source": [
    "l = [1,2,3,4,5,6,7,8,9]\n",
    "print(\"The initial list : \",l)\n",
    "l1 = [i for i in l if i % 2 == 0]\n",
    "print(\"Even integers in the initial list : \",l1)"
   ]
  },
  {
   "cell_type": "markdown",
   "metadata": {},
   "source": [
    "**8. Write a Python program to print odd numbers in a List?**"
   ]
  },
  {
   "cell_type": "code",
   "execution_count": 22,
   "metadata": {},
   "outputs": [
    {
     "name": "stdout",
     "output_type": "stream",
     "text": [
      "The initial list :  [1, 2, 3, 4, 5, 6, 7, 8, 9]\n",
      "Odd integers in the initial list :  [1, 3, 5, 7, 9]\n"
     ]
    }
   ],
   "source": [
    "l = [1,2,3,4,5,6,7,8,9]\n",
    "print(\"The initial list : \",l)\n",
    "\n",
    "l1 = [i for i in l if i % 2 != 0]\n",
    "print(\"Odd integers in the initial list : \",l1)"
   ]
  },
  {
   "cell_type": "markdown",
   "metadata": {},
   "source": [
    "**9. Write a Python program to Remove empty List from List?**"
   ]
  },
  {
   "cell_type": "code",
   "execution_count": 24,
   "metadata": {},
   "outputs": [
    {
     "name": "stdout",
     "output_type": "stream",
     "text": [
      "Initial list :  [1, 2, [], [], 1, 5, 8, []]\n",
      "After removing empty List from List :  [1, 2, 1, 5, 8]\n"
     ]
    }
   ],
   "source": [
    "l = [1,2,[],[],1,5,8,[]]\n",
    "print(\"Initial list : \",l)\n",
    "\n",
    "l1 = [i for i in l if i!= []]\n",
    "print(\"After removing empty List from List : \",l1)"
   ]
  },
  {
   "cell_type": "markdown",
   "metadata": {},
   "source": [
    "**10. Write a Python program to Cloning or Copying a list?**"
   ]
  },
  {
   "cell_type": "code",
   "execution_count": 25,
   "metadata": {},
   "outputs": [
    {
     "name": "stdout",
     "output_type": "stream",
     "text": [
      "Original list : [1, 2, 3, 4, 5]\n",
      "Clone list : [1, 2, 3, 4, 5]\n"
     ]
    }
   ],
   "source": [
    "def list_clone(list1):\n",
    "    clone_list = list1[:]\n",
    "    return clone_list\n",
    "\n",
    "list1 = [1,2,3,4,5]\n",
    "list2 = list_clone(list1)\n",
    "print(\"Original list :\", list1)\n",
    "print(\"Clone list :\", list2)"
   ]
  },
  {
   "cell_type": "markdown",
   "metadata": {},
   "source": [
    "**11. Write a Python program to Count occurrences of an element in a list?**"
   ]
  },
  {
   "cell_type": "code",
   "execution_count": 29,
   "metadata": {},
   "outputs": [
    {
     "name": "stdout",
     "output_type": "stream",
     "text": [
      "{Element : Count}\n",
      "{1: 3, 2: 4, 3: 5, 'a': 2, 'ab': 1, 'abc': 1}\n"
     ]
    }
   ],
   "source": [
    "l = [1,1,1,2,2,2,2,3,3,3,3,3,\"a\",\"a\",\"ab\",\"abc\"]\n",
    "def count_occurences(l):\n",
    "    d = {}\n",
    "    for i in l :\n",
    "        if i in d:\n",
    "            d[i] = d[i] + 1\n",
    "        else :\n",
    "            d[i] = 1\n",
    "    return d\n",
    "\n",
    "print(\"{Element : Count}\")\n",
    "print(count_occurences(l))"
   ]
  }
 ],
 "metadata": {
  "kernelspec": {
   "display_name": "Python 3",
   "language": "python",
   "name": "python3"
  },
  "language_info": {
   "codemirror_mode": {
    "name": "ipython",
    "version": 3
   },
   "file_extension": ".py",
   "mimetype": "text/x-python",
   "name": "python",
   "nbconvert_exporter": "python",
   "pygments_lexer": "ipython3",
   "version": "3.7.6"
  }
 },
 "nbformat": 4,
 "nbformat_minor": 4
}
