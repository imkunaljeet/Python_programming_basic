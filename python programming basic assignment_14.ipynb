{
 "cells": [
  {
   "cell_type": "markdown",
   "metadata": {},
   "source": [
    "**Question 1:\\\n",
    "Define a class with a generator which can iterate the numbers, which are divisible by 7, between a given range 0 and n.**"
   ]
  },
  {
   "cell_type": "code",
   "execution_count": 1,
   "metadata": {},
   "outputs": [
    {
     "name": "stdout",
     "output_type": "stream",
     "text": [
      "0 7 14 21 28 35 42 49 56 63 70 77 84 91 98 "
     ]
    }
   ],
   "source": [
    "class Divisibility(object):\n",
    "    def __init__(self,n):\n",
    "        self.n = n\n",
    "    def div_by_7(self):\n",
    "        for i in range(0,self.n):\n",
    "            if i % 7 == 0:\n",
    "                yield i\n",
    "                \n",
    "for i in Divisibility(100).div_by_7():\n",
    "    print(i,end=\" \")"
   ]
  },
  {
   "cell_type": "markdown",
   "metadata": {},
   "source": [
    "**Question 2:\\\n",
    "Write a program to compute the frequency of the words from the input. The output should output after sorting the key alphanumerically.\\\n",
    "Suppose the following input is supplied to the program:**\\\n",
    "New to Python or choosing between Python 2 and Python 3? Read Python 2 or Python 3.\\\n",
    "**Then, the output should be:**\\\n",
    "2 : 2\\\n",
    "3\\. : 1\\\n",
    "3? : 1\\\n",
    "New : 1\\\n",
    "Python : 5\\\n",
    "Read : 1\\\n",
    "and : 1\\\n",
    "between : 1\\\n",
    "choosing : 1\\\n",
    "or : 2\\\n",
    "to : 1"
   ]
  },
  {
   "cell_type": "code",
   "execution_count": 16,
   "metadata": {},
   "outputs": [
    {
     "name": "stdout",
     "output_type": "stream",
     "text": [
      "Enter a sentence : New to Python or choosing between Python 2 and Python 3? Read Python 2 or Python 3.\n",
      "2 : 2\n",
      "3. : 1\n",
      "3? : 1\n",
      "New : 1\n",
      "Python : 5\n",
      "Read : 1\n",
      "and : 1\n",
      "between : 1\n",
      "choosing : 1\n",
      "or : 2\n",
      "to : 1\n"
     ]
    }
   ],
   "source": [
    "a = {}\n",
    "b = input(\"Enter a sentence : \").split()\n",
    "for i in b:\n",
    "    if i in a:\n",
    "        a[i] = a[i]+1\n",
    "    else:\n",
    "        a[i] = 1\n",
    "for i in sorted(a):\n",
    "    print(i,\":\",a[i])"
   ]
  },
  {
   "cell_type": "markdown",
   "metadata": {},
   "source": [
    "**Question 3:\\\n",
    "Define a class Person and its two child classes: Male and Female. All classes have a method &quot;getGender&quot; which can print &quot;Male&quot; for Male class and &quot;Female&quot; for Female class.**"
   ]
  },
  {
   "cell_type": "code",
   "execution_count": 7,
   "metadata": {},
   "outputs": [
    {
     "name": "stdout",
     "output_type": "stream",
     "text": [
      "Female\n",
      "Male\n"
     ]
    }
   ],
   "source": [
    "class Person(object):\n",
    "    def __init__(self):\n",
    "        self.gender = \"Male,Female or LGBTQ+\"\n",
    "    def getGender(self):\n",
    "        print(self.gender)\n",
    "\n",
    "class Male(Person):\n",
    "    def __init__(self):\n",
    "        self.gender = \"Male\"\n",
    "class Female(Person):\n",
    "    def __init__(self):\n",
    "        self.gender = \"Female\"\n",
    "    \n",
    "Shweta = Female()\n",
    "Rahul = Male()\n",
    "Shweta.getGender()\n",
    "Rahul.getGender()"
   ]
  },
  {
   "cell_type": "markdown",
   "metadata": {},
   "source": [
    "**Question 4:\\\n",
    "Please write a program to generate all sentences where subject is in [&quot;I&quot;, &quot;You&quot;] and verb is in [&quot;Play&quot;, &quot;Love&quot;] and the object is in [&quot;Hockey&quot;,&quot;Football&quot;].**"
   ]
  },
  {
   "cell_type": "code",
   "execution_count": 10,
   "metadata": {},
   "outputs": [
    {
     "name": "stdout",
     "output_type": "stream",
     "text": [
      "All sentences : \n",
      "\n",
      "I play hockey\n",
      "I play football\n",
      "I love hockey\n",
      "I love football\n",
      "You play hockey\n",
      "You play football\n",
      "You love hockey\n",
      "You love football\n"
     ]
    }
   ],
   "source": [
    "subject = [\"I\",\"You\"]\n",
    "verb = [\"play\",\"love\"]\n",
    "object_ = [\"hockey\",\"football\"]\n",
    "print(\"All sentences : \\n\")\n",
    "for i in subject:\n",
    "    for j in verb:\n",
    "        for k in object_:\n",
    "            print(i,j,k)            "
   ]
  },
  {
   "cell_type": "markdown",
   "metadata": {},
   "source": [
    "**Question 5:\\\n",
    "Please write a program to compress and decompress the string &quot;hello world!hello world!hello world!hello world!&quot;.**"
   ]
  },
  {
   "cell_type": "code",
   "execution_count": 46,
   "metadata": {},
   "outputs": [
    {
     "name": "stdout",
     "output_type": "stream",
     "text": [
      "Original text :  hello world!hello world!hello world!hello world!\n",
      "Size of original text : 97\n",
      "\n",
      "Compressed text :  b'x\\x9c\\xcbH\\xcd\\xc9\\xc9W(\\xcf/\\xcaIQ\\xcc \\x82\\r\\x00\\xbd[\\x11\\xf5'\n",
      "Size of compressed text : 56\n",
      "\n",
      "Decompressed text : hello world!hello world!hello world!hello world!\n",
      "Size of decompressed text : 97\n"
     ]
    }
   ],
   "source": [
    "import zlib\n",
    "import sys\n",
    "a = \"hello world!hello world!hello world!hello world!\"\n",
    "print(\"Original text : \",a)\n",
    "print(\"Size of original text :\",sys.getsizeof(a))\n",
    "\n",
    "b = zlib.compress(a.encode())\n",
    "print(\"\\nCompressed text : \",b)\n",
    "print(\"Size of compressed text :\",sys.getsizeof(b))\n",
    "\n",
    "c = zlib.decompress(b).decode()\n",
    "print(\"\\nDecompressed text :\",c)\n",
    "print(\"Size of decompressed text :\",sys.getsizeof(c))"
   ]
  },
  {
   "cell_type": "markdown",
   "metadata": {},
   "source": [
    "**Question 6:\\\n",
    "Please write a binary search function which searches an item in a sorted list. The function should return the index of element to be searched in the list.**"
   ]
  },
  {
   "cell_type": "code",
   "execution_count": 78,
   "metadata": {},
   "outputs": [
    {
     "name": "stdout",
     "output_type": "stream",
     "text": [
      "List : [1, 3, 5, 7, 8, 11, 12, 25, 45, 99, 545]\n",
      "\n",
      "Enter the element you want index of : 125\n",
      "Element not present in list\n"
     ]
    }
   ],
   "source": [
    "def bin_search(l,element):\n",
    "    first = 0\n",
    "    last = len(l) - 1\n",
    "    index = -1\n",
    "    while last>=first and index == -1:\n",
    "        mid = (last + first)//2\n",
    "        if l[mid]==element:\n",
    "            index = mid\n",
    "        elif l[mid]>element:\n",
    "            last = mid-1\n",
    "        else:\n",
    "            first = mid+1\n",
    "    return index\n",
    "\n",
    "l = [1,25,545,8,12,45,3,5,7,99,11]\n",
    "l = sorted(l)\n",
    "print(\"List :\",l)\n",
    "element = int(input(\"\\nEnter the element you want index of : \"))\n",
    "\n",
    "result = bin_search(l,element)\n",
    "if result != -1:\n",
    "    print(\"The index of element\",element,\":\",result)\n",
    "else:\n",
    "    print(\"Element not present in list\")"
   ]
  }
 ],
 "metadata": {
  "kernelspec": {
   "display_name": "Python 3",
   "language": "python",
   "name": "python3"
  },
  "language_info": {
   "codemirror_mode": {
    "name": "ipython",
    "version": 3
   },
   "file_extension": ".py",
   "mimetype": "text/x-python",
   "name": "python",
   "nbconvert_exporter": "python",
   "pygments_lexer": "ipython3",
   "version": "3.7.6"
  }
 },
 "nbformat": 4,
 "nbformat_minor": 4
}
