{
 "cells": [
  {
   "cell_type": "markdown",
   "metadata": {},
   "source": [
    "**1. Write a Python program to check if the given number is a Disarium Number.**"
   ]
  },
  {
   "cell_type": "code",
   "execution_count": 1,
   "metadata": {},
   "outputs": [
    {
     "name": "stdout",
     "output_type": "stream",
     "text": [
      "Enter a positve number : 456\n",
      "456 is not a disarium number\n"
     ]
    }
   ],
   "source": [
    "def disarium_no(x):\n",
    "    \n",
    "    power = 1\n",
    "    Sum = 0\n",
    "    for i in str(x):\n",
    "        Sum = Sum + (int(i) ** power)\n",
    "        power = power + 1\n",
    "    if Sum == x :\n",
    "        return str(x) + \" is a disarium number\"\n",
    "    else :\n",
    "        return str(x) + \" is not a disarium number\"\n",
    "    \n",
    "a = int(input(\"Enter a positve number : \"))\n",
    "print(disarium_no(a))"
   ]
  },
  {
   "cell_type": "markdown",
   "metadata": {},
   "source": [
    "**2. Write a Python program to print all disarium numbers between 1 to 100.**"
   ]
  },
  {
   "cell_type": "code",
   "execution_count": 20,
   "metadata": {},
   "outputs": [
    {
     "name": "stdout",
     "output_type": "stream",
     "text": [
      "All disarium numbers between 1 to 100 :\n",
      "1\n",
      "2\n",
      "3\n",
      "4\n",
      "5\n",
      "6\n",
      "7\n",
      "8\n",
      "9\n",
      "89\n"
     ]
    }
   ],
   "source": [
    "def sum_of_digits(x):\n",
    "    power = 1\n",
    "    Sum = 0\n",
    "    for i in str(x):\n",
    "        Sum = Sum + (int(i) ** power)\n",
    "        power = power + 1\n",
    "    if Sum == x :\n",
    "        return Sum\n",
    "\n",
    "number = 0\n",
    "print(\"All disarium numbers between 1 to 100 :\")\n",
    "for j in range(1,101):\n",
    "    number = sum_of_digits(j)\n",
    "    if number == j:\n",
    "        print(j)"
   ]
  },
  {
   "cell_type": "markdown",
   "metadata": {},
   "source": [
    "**3. Write a Python program to check if the given number is Happy Number.**"
   ]
  },
  {
   "cell_type": "code",
   "execution_count": 27,
   "metadata": {},
   "outputs": [
    {
     "name": "stdout",
     "output_type": "stream",
     "text": [
      "Enter a positive integer : 86\n",
      "86 is a happy number\n"
     ]
    }
   ],
   "source": [
    "def square_of_digits(x):\n",
    "    Sum = 0\n",
    "    for i in str(x):\n",
    "        Sum = Sum + ((int(i))**2)\n",
    "    return Sum\n",
    "\n",
    "x = int(input(\"Enter a positive integer : \"))\n",
    "y = x\n",
    "\n",
    "while y != 1 and y != 4 :\n",
    "    y = square_of_digits(y)\n",
    "    \n",
    "if y == 1:\n",
    "    print(x,\"is a happy number\")\n",
    "elif y == 4:\n",
    "    print(x,\"is not a happy number\")"
   ]
  },
  {
   "cell_type": "markdown",
   "metadata": {},
   "source": [
    "**4. Write a Python program to print all happy numbers between 1 and 100.**"
   ]
  },
  {
   "cell_type": "code",
   "execution_count": 28,
   "metadata": {},
   "outputs": [
    {
     "name": "stdout",
     "output_type": "stream",
     "text": [
      "Happy numbers between 1 to 100 : \n",
      "1\n",
      "7\n",
      "10\n",
      "13\n",
      "19\n",
      "23\n",
      "28\n",
      "31\n",
      "32\n",
      "44\n",
      "49\n",
      "68\n",
      "70\n",
      "79\n",
      "82\n",
      "86\n",
      "91\n",
      "94\n",
      "97\n",
      "100\n"
     ]
    }
   ],
   "source": [
    "print(\"Happy numbers between 1 to 100 : \")\n",
    "for i in range(1,101):\n",
    "    y = i\n",
    "\n",
    "    while y != 1 and y != 4 :\n",
    "        y = square_of_digits(y)\n",
    "    \n",
    "    if y == 1:\n",
    "        print(i)"
   ]
  },
  {
   "cell_type": "markdown",
   "metadata": {},
   "source": [
    "**5. Write a Python program to determine whether the given number is a Harshad Number.**"
   ]
  },
  {
   "cell_type": "code",
   "execution_count": 29,
   "metadata": {},
   "outputs": [
    {
     "name": "stdout",
     "output_type": "stream",
     "text": [
      "Enter a positive integer : 78\n",
      "78 is not a Harshad number\n"
     ]
    }
   ],
   "source": [
    "def sum_of_digits(x):\n",
    "    Sum = 0\n",
    "    for i in str(x):\n",
    "        Sum = Sum + int(i)\n",
    "    return Sum\n",
    "\n",
    "x = int(input(\"Enter a positive integer : \"))\n",
    "\n",
    "if x <= 0:\n",
    "    print(\"Only positive integers allowed\")\n",
    "elif x >0:    \n",
    "    if x % sum_of_digits(x) == 0:\n",
    "        print(x, \"is a Harshad number\")\n",
    "    else :\n",
    "        print(x,\"is not a Harshad number\")"
   ]
  },
  {
   "cell_type": "markdown",
   "metadata": {},
   "source": [
    "**6. Write a Python program to print all pronic numbers between 1 and 100.**"
   ]
  },
  {
   "cell_type": "code",
   "execution_count": 30,
   "metadata": {},
   "outputs": [
    {
     "name": "stdout",
     "output_type": "stream",
     "text": [
      "Pronic numbers between 1 to 100 :\n",
      "2\n",
      "6\n",
      "12\n",
      "20\n",
      "30\n",
      "42\n",
      "56\n",
      "72\n",
      "90\n"
     ]
    }
   ],
   "source": [
    "print(\"Pronic numbers between 1 to 100 :\")\n",
    "for i in range(1,101):\n",
    "    if (i*(i+1)) < 100 :\n",
    "        print((i*(i+1)))"
   ]
  }
 ],
 "metadata": {
  "kernelspec": {
   "display_name": "Python 3",
   "language": "python",
   "name": "python3"
  },
  "language_info": {
   "codemirror_mode": {
    "name": "ipython",
    "version": 3
   },
   "file_extension": ".py",
   "mimetype": "text/x-python",
   "name": "python",
   "nbconvert_exporter": "python",
   "pygments_lexer": "ipython3",
   "version": "3.7.6"
  }
 },
 "nbformat": 4,
 "nbformat_minor": 4
}
