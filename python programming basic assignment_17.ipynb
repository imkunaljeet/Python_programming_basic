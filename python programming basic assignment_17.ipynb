{
 "cells": [
  {
   "cell_type": "markdown",
   "metadata": {},
   "source": [
    "**Question1.\\\n",
    "Create a function that takes three arguments a, b, c and returns the sum of the numbers that are evenly divided by c from the range a, b inclusive.\\\n",
    "Examples**\\\n",
    "evenly_divisible(1, 10, 20) ➞ 0\\\n",
    "\\# No number between 1 and 10 can be evenly divided by 20.\n",
    "\n",
    "evenly_divisible(1, 10, 2) ➞ 30\\\n",
    "\\# 2 + 4 + 6 + 8 + 10 = 30\n",
    "\n",
    "evenly_divisible(1, 10, 3) ➞ 18\\\n",
    "\\# 3 + 6 + 9 = 18"
   ]
  },
  {
   "cell_type": "code",
   "execution_count": 8,
   "metadata": {},
   "outputs": [
    {
     "name": "stdout",
     "output_type": "stream",
     "text": [
      "0\n",
      "30\n",
      "18\n"
     ]
    }
   ],
   "source": [
    "def evenly_divisible(a,b,c):\n",
    "    l = [i for i in range(a,b+1) if i % c == 0]\n",
    "    return sum(l) \n",
    "\n",
    "print(evenly_divisible(1,10,20))\n",
    "print(evenly_divisible(1,10,2))\n",
    "print(evenly_divisible(1,10,3))"
   ]
  },
  {
   "cell_type": "markdown",
   "metadata": {},
   "source": [
    "**Question2.\\\n",
    "Create a function that returns True if a given inequality expression is correct and False otherwise.\\\n",
    "Examples**\\\n",
    "correct_signs(&quot;3 &lt; 7 &lt; 11&quot;) ➞ True\n",
    "\n",
    "correct_signs(&quot;13 &gt; 44 &gt; 33 &gt; 1&quot;) ➞ False\n",
    "\n",
    "correct_signs(&quot;1 &lt; 2 &lt; 6 &lt; 9 &gt; 3&quot;) ➞ True"
   ]
  },
  {
   "cell_type": "code",
   "execution_count": 13,
   "metadata": {},
   "outputs": [
    {
     "name": "stdout",
     "output_type": "stream",
     "text": [
      "True\n",
      "False\n",
      "True\n"
     ]
    }
   ],
   "source": [
    "def correct_signs(x):\n",
    "    if eval(x):\n",
    "        return True\n",
    "    else:\n",
    "        return False\n",
    "\n",
    "print(correct_signs(\"3 < 7 < 11\"))\n",
    "print(correct_signs(\"13 > 44 > 33 > 1\"))\n",
    "print(correct_signs(\"1 < 2 < 6 < 9 > 3\"))"
   ]
  },
  {
   "cell_type": "markdown",
   "metadata": {},
   "source": [
    "**Question3.\\\n",
    "Create a function that replaces all the vowels in a string with a specified character.\\\n",
    "Examples**\\\n",
    "replace_vowels(&quot;the aardvark&quot;, &quot;#&quot;) ➞ &quot;th# ##rdv#rk&quot;\n",
    "\n",
    "replace_vowels(&quot;minnie mouse&quot;, &quot;?&quot;) ➞ &quot;m?nn?? m??s?&quot;\n",
    "\n",
    "replace_vowels(&quot;shakespeare&quot;, &quot;\\*&quot;)  ➞ \"sh\\*k\\*sp\\*\\*r\\*&quot;&quot;"
   ]
  },
  {
   "cell_type": "code",
   "execution_count": 30,
   "metadata": {},
   "outputs": [
    {
     "name": "stdout",
     "output_type": "stream",
     "text": [
      "th# ##rdv#rk\n",
      "m?nn?? m??s?\n",
      "sh*k*sp**r*\n"
     ]
    }
   ],
   "source": [
    "def replace_vowels(x,character):\n",
    "    y = \"a,e,i,o,u,A,E,I,O,U\".split(\",\")\n",
    "    for i in x:\n",
    "        if i in y:\n",
    "            x = x.replace(i,character)\n",
    "    return x\n",
    "print(replace_vowels(\"the aardvark\",\"#\"))\n",
    "print(replace_vowels(\"minnie mouse\", \"?\"))\n",
    "print(replace_vowels(\"shakespeare\", \"*\"))"
   ]
  },
  {
   "cell_type": "markdown",
   "metadata": {},
   "source": [
    "**Question4.\\\n",
    "Write a function that calculates the factorial of a number recursively.\\\n",
    "Examples**\\\n",
    "factorial(5) ➞ 120\n",
    "\n",
    "factorial(3) ➞ 6\n",
    "\n",
    "factorial(1) ➞ 1\n",
    "\n",
    "factorial(0) ➞ 1"
   ]
  },
  {
   "cell_type": "code",
   "execution_count": 32,
   "metadata": {},
   "outputs": [
    {
     "name": "stdout",
     "output_type": "stream",
     "text": [
      "120\n",
      "6\n",
      "1\n",
      "1\n"
     ]
    }
   ],
   "source": [
    "def factorial(n):\n",
    "    if n == 0:\n",
    "        return 1\n",
    "    return n * factorial(n-1)\n",
    "\n",
    "print(factorial(5))\n",
    "print(factorial(3))\n",
    "print(factorial(1))\n",
    "print(factorial(0))"
   ]
  },
  {
   "cell_type": "markdown",
   "metadata": {},
   "source": [
    "**Question 5\\\n",
    "Hamming distance is the number of characters that differ between two strings.\\\n",
    "To illustrate:**\\\n",
    "String1: &quot;abcbba&quot;\n",
    "\n",
    "String2: &quot;abcbda&quot;\n",
    "\n",
    "Hamming Distance: 1 - &quot;b&quot; vs. &quot;d&quot; is the only difference.\n",
    "\n",
    "**Create a function that computes the hamming distance between two strings.\n",
    "Examples**\\\n",
    "hamming_distance(&quot;abcde&quot;, &quot;bcdef&quot;) ➞ 5\n",
    "\n",
    "hamming_distance(&quot;abcde&quot;, &quot;abcde&quot;) ➞ 0\n",
    "\n",
    "hamming_distance(&quot;strong&quot;, &quot;strung&quot;) ➞ 1"
   ]
  },
  {
   "cell_type": "code",
   "execution_count": 36,
   "metadata": {},
   "outputs": [
    {
     "name": "stdout",
     "output_type": "stream",
     "text": [
      "5\n",
      "0\n",
      "1\n"
     ]
    }
   ],
   "source": [
    "def hamming_distance(a,b):\n",
    "    count = 0\n",
    "    for i in range(len(a)):\n",
    "        if a[i] != b[i]:\n",
    "            count += 1\n",
    "    return count\n",
    "\n",
    "print(hamming_distance(\"abcde\", \"bcdef\"))\n",
    "print(hamming_distance(\"abcde\", \"abcde\"))\n",
    "print(hamming_distance(\"strong\", \"strung\"))"
   ]
  }
 ],
 "metadata": {
  "kernelspec": {
   "display_name": "Python 3",
   "language": "python",
   "name": "python3"
  },
  "language_info": {
   "codemirror_mode": {
    "name": "ipython",
    "version": 3
   },
   "file_extension": ".py",
   "mimetype": "text/x-python",
   "name": "python",
   "nbconvert_exporter": "python",
   "pygments_lexer": "ipython3",
   "version": "3.7.6"
  }
 },
 "nbformat": 4,
 "nbformat_minor": 4
}
