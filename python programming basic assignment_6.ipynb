{
 "cells": [
  {
   "cell_type": "markdown",
   "metadata": {},
   "source": [
    "**1. Write a Python Program to Display Fibonacci Sequence Using Recursion.**"
   ]
  },
  {
   "cell_type": "code",
   "execution_count": 1,
   "metadata": {},
   "outputs": [
    {
     "name": "stdout",
     "output_type": "stream",
     "text": [
      "Enter the no. of terms for which you want fibonacci sequence : 10\n",
      "0\n",
      "1\n",
      "1\n",
      "2\n",
      "3\n",
      "5\n",
      "8\n",
      "13\n",
      "21\n",
      "34\n"
     ]
    }
   ],
   "source": [
    "l = []\n",
    "def fibonacci(i):\n",
    "    if i == 0:\n",
    "        return 0\n",
    "    if i == 1:\n",
    "        return 1\n",
    "    else:\n",
    "        return fibonacci(i-2) + fibonacci(i-1)\n",
    "\n",
    "a = int(input(\"Enter the no. of terms for which you want fibonacci sequence : \"))\n",
    "for x in range(a):\n",
    "    print(fibonacci(x))"
   ]
  },
  {
   "cell_type": "markdown",
   "metadata": {},
   "source": [
    "**2. Write a Python Program to Find Factorial of Number Using Recursion.**"
   ]
  },
  {
   "cell_type": "code",
   "execution_count": 2,
   "metadata": {},
   "outputs": [
    {
     "name": "stdout",
     "output_type": "stream",
     "text": [
      "56\n",
      "The factorial of 56 is : 710998587804863451854045647463724949736497978881168458687447040000000000000\n"
     ]
    }
   ],
   "source": [
    "def factorial(n):\n",
    "    if n < 0:\n",
    "        return \"not defined as it is negative\"\n",
    "    elif n == 0 or n == 1:\n",
    "        return 1\n",
    "    else :\n",
    "        return n * factorial(n-1)\n",
    "\n",
    "a = int(input())\n",
    "print(\"The factorial of\",a,\"is :\",factorial(a))"
   ]
  },
  {
   "cell_type": "markdown",
   "metadata": {},
   "source": [
    "**3. Write a Python Program to calculate your Body Mass Index.**"
   ]
  },
  {
   "cell_type": "code",
   "execution_count": 1,
   "metadata": {},
   "outputs": [
    {
     "name": "stdout",
     "output_type": "stream",
     "text": [
      "Enter height in cm : 173\n",
      "Enter weight in kg : 64\n",
      "Your BMI is : 21.383941996057334\n",
      "Weight Status : Normal weight\n"
     ]
    }
   ],
   "source": [
    "height = float(input(\"Enter height in cm : \"))\n",
    "weight = float(input(\"Enter weight in kg : \"))\n",
    "BMI = weight / (height/100)**2\n",
    "print(\"Your BMI is :\",BMI)\n",
    "if BMI <= 18.4:\n",
    "    print(\"Weight Status : Underweight\")\n",
    "elif BMI <= 24.9:\n",
    "    print(\"Weight Status : Normal weight\")\n",
    "elif BMI <= 29.9:\n",
    "    print(\"Weight Status : Overweight\")\n",
    "elif BMI <= 34.9:\n",
    "    print(\"Weight Status : Obesity Class 1\")\n",
    "elif BMI <= 39.9:\n",
    "    print(\"Weight Status : Obesity Class 2\")\n",
    "else:\n",
    "    print(\"Weight Status : Obesity Class 3\")"
   ]
  },
  {
   "cell_type": "markdown",
   "metadata": {},
   "source": [
    "**4. Write a Python Program to calculate the natural logarithm of any number.**"
   ]
  },
  {
   "cell_type": "code",
   "execution_count": 5,
   "metadata": {},
   "outputs": [
    {
     "name": "stdout",
     "output_type": "stream",
     "text": [
      "Enter a positive number : 0\n",
      "The natural log of 0.0 : cannot be determined as natural log isn't defined for 0\n"
     ]
    }
   ],
   "source": [
    "def natural_log(x):\n",
    "    import math\n",
    "    if x == 0:\n",
    "        return \"cannot be determined as natural log isn't defined for 0\"\n",
    "    if x < 0:\n",
    "        return \"cannot be determined as natural log for negative numbers is not defined\"\n",
    "    else :\n",
    "        return math.log(x)\n",
    "\n",
    "n = float(input(\"Enter a positive number : \"))\n",
    "print(\"The natural log of\", n, \":\", natural_log(n))"
   ]
  },
  {
   "cell_type": "markdown",
   "metadata": {},
   "source": [
    "**5. Write a Python Program for cube sum of first n natural numbers.**"
   ]
  },
  {
   "cell_type": "code",
   "execution_count": 2,
   "metadata": {},
   "outputs": [
    {
     "name": "stdout",
     "output_type": "stream",
     "text": [
      "Enter no. of terms : 5\n",
      "Cube sum of first 5 natural numbers is 225\n"
     ]
    }
   ],
   "source": [
    "n = int(input(\"Enter no. of terms : \"))\n",
    "sum_ = 0\n",
    "if n < 0:\n",
    "    print(\"negative integers are not natural numbers\")\n",
    "elif n==0:\n",
    "    print(\"0 is not a natural number\")\n",
    "else:\n",
    "    for i in range(1,n+1):\n",
    "        sum_ += pow(i,3)\n",
    "        \n",
    "print(\"Cube sum of first\", n, \"natural numbers is\",sum_)"
   ]
  }
 ],
 "metadata": {
  "kernelspec": {
   "display_name": "Python 3",
   "language": "python",
   "name": "python3"
  },
  "language_info": {
   "codemirror_mode": {
    "name": "ipython",
    "version": 3
   },
   "file_extension": ".py",
   "mimetype": "text/x-python",
   "name": "python",
   "nbconvert_exporter": "python",
   "pygments_lexer": "ipython3",
   "version": "3.7.6"
  }
 },
 "nbformat": 4,
 "nbformat_minor": 4
}
